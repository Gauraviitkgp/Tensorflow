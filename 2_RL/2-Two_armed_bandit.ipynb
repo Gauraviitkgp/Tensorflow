{
 "cells": [
  {
   "cell_type": "code",
   "execution_count": 74,
   "metadata": {},
   "outputs": [],
   "source": [
    "# https://medium.com/@awjuliani/super-simple-reinforcement-learning-tutorial-part-1-fd544fab149\n",
    "import numpy as np\n",
    "import tensorflow as tf"
   ]
  },
  {
   "cell_type": "code",
   "execution_count": 75,
   "metadata": {},
   "outputs": [],
   "source": [
    "#List out our bandits. Currently bandit 4 (index#3) is set to most often provide a positive reward.\n",
    "bandits = [0.2, 0 ,-0.2, -5]\n",
    "num_bandits = len(bandits)\n",
    "def pullBandit(bandit):\n",
    "    #Get a random number.\n",
    "    if result > bandit:\n",
    "        #return a positive reward.\n",
    "        return 1\n",
    "    else:\n",
    "        #return a negative reward.\n",
    "        return -1\n"
   ]
  },
  {
   "cell_type": "code",
   "execution_count": 76,
   "metadata": {},
   "outputs": [],
   "source": [
    "tf.reset_default_graph()"
   ]
  },
  {
   "cell_type": "code",
   "execution_count": 77,
   "metadata": {},
   "outputs": [],
   "source": [
    "#These two lines established the feed-forward part of the network. This does the actual choosing.\n",
    "weights = tf.Variable(tf.ones([num_bandits]))\n",
    "chosen_action = tf.argmax(weights,0)\n",
    "\n",
    "#The next six lines establish the training proceedure. We feed the reward and chosen action into the network\n",
    "#to compute the loss, and use it to update the network.\n",
    "reward_holder = tf.placeholder(shape=[1],dtype=tf.float32)\n",
    "action_holder = tf.placeholder(shape=[1],dtype=tf.int32)\n",
    "responsible_weight = tf.slice(weights,action_holder,[1])\n",
    "loss = -(tf.log(responsible_weight)*reward_holder)\n",
    "optimizer = tf.train.GradientDescentOptimizer(learning_rate=0.001)\n",
    "update = optimizer.minimize(loss)"
   ]
  },
  {
   "cell_type": "code",
   "execution_count": 78,
   "metadata": {},
   "outputs": [
    {
     "name": "stdout",
     "output_type": "stream",
     "text": [
      "\n",
      "Result:[-1.26591207] bandit:0.2 \n",
      "Action:0\n",
      "WW:[0.999 1.    1.    1.   ]\n",
      "Running reward for the 4 bandits: [-1.  0.  0.  0.]\n",
      "\n",
      "Result:[-1.17510573] bandit:0 \n",
      "Action:1\n",
      "WW:[0.999 0.999 1.    1.   ]\n",
      "Running reward for the 4 bandits: [-1. -1.  0.  0.]\n",
      "\n",
      "Random Select\n",
      "Result:[-1.53652709] bandit:-5 \n",
      "Action:3\n",
      "WW:[0.999 0.999 1.    1.001]\n",
      "Running reward for the 4 bandits: [-1. -1.  0.  1.]\n",
      "\n",
      "Result:[-0.71027301] bandit:-5 \n",
      "Action:3\n",
      "WW:[0.999    0.999    1.       1.001999]\n",
      "Running reward for the 4 bandits: [-1. -1.  0.  2.]\n",
      "\n",
      "Random Select\n",
      "Result:[0.22299939] bandit:0.2 \n",
      "Action:0\n",
      "WW:[1.0000011 0.999     1.        1.001999 ]\n",
      "Running reward for the 4 bandits: [ 0. -1.  0.  2.]\n",
      "\n",
      "Random Select\n",
      "Result:[-0.21775612] bandit:-0.2 \n",
      "Action:2\n",
      "WW:[1.0000011 0.999     0.999     1.001999 ]\n",
      "Running reward for the 4 bandits: [ 0. -1. -1.  2.]\n",
      "\n",
      "Result:[-1.39463825] bandit:-5 \n",
      "Action:3\n",
      "WW:[1.0000011 0.999     0.999     1.002997 ]\n",
      "Running reward for the 4 bandits: [ 0. -1. -1.  3.]\n",
      "\n",
      "Result:[-2.33851349] bandit:-5 \n",
      "Action:3\n",
      "WW:[1.0000011 0.999     0.999     1.0039941]\n",
      "Running reward for the 4 bandits: [ 0. -1. -1.  4.]\n",
      "\n",
      "Random Select\n",
      "Result:[-1.90822613] bandit:0 \n",
      "Action:1\n",
      "WW:[1.0000011 0.997999  0.999     1.0039941]\n",
      "Running reward for the 4 bandits: [ 0. -2. -1.  4.]\n",
      "\n",
      "Random Select\n",
      "Result:[-0.424491] bandit:0.2 \n",
      "Action:0\n",
      "WW:[0.9990011 0.997999  0.999     1.0039941]\n",
      "Running reward for the 4 bandits: [-1. -2. -1.  4.]\n",
      "\n",
      "Random Select\n",
      "Result:[0.02682271] bandit:0 \n",
      "Action:1\n",
      "WW:[0.9990011 0.999001  0.999     1.0039941]\n",
      "Running reward for the 4 bandits: [-1. -1. -1.  4.]\n",
      "\n",
      "Result:[0.35132556] bandit:-5 \n",
      "Action:3\n",
      "WW:[0.9990011 0.999001  0.999     1.0049901]\n",
      "Running reward for the 4 bandits: [-1. -1. -1.  5.]\n",
      "\n",
      "Result:[1.68106775] bandit:-5 \n",
      "Action:3\n",
      "WW:[0.9990011 0.999001  0.999     1.0059851]\n",
      "Running reward for the 4 bandits: [-1. -1. -1.  6.]\n",
      "\n",
      "Result:[0.39859562] bandit:-5 \n",
      "Action:3\n",
      "WW:[0.9990011 0.999001  0.999     1.0069792]\n",
      "Running reward for the 4 bandits: [-1. -1. -1.  7.]\n",
      "\n",
      "Result:[1.7901146] bandit:-5 \n",
      "Action:3\n",
      "WW:[0.9990011 0.999001  0.999     1.0079722]\n",
      "Running reward for the 4 bandits: [-1. -1. -1.  8.]\n",
      "\n",
      "Result:[-0.81996703] bandit:-5 \n",
      "Action:3\n",
      "WW:[0.9990011 0.999001  0.999     1.0089643]\n",
      "Running reward for the 4 bandits: [-1. -1. -1.  9.]\n",
      "\n",
      "Result:[-2.21048834] bandit:-5 \n",
      "Action:3\n",
      "WW:[0.9990011 0.999001  0.999     1.0099554]\n",
      "Running reward for the 4 bandits: [-1. -1. -1. 10.]\n",
      "\n",
      "Result:[-0.37175585] bandit:-5 \n",
      "Action:3\n",
      "WW:[0.9990011 0.999001  0.999     1.0109456]\n",
      "Running reward for the 4 bandits: [-1. -1. -1. 11.]\n",
      "\n",
      "Result:[0.64382505] bandit:-5 \n",
      "Action:3\n",
      "WW:[0.9990011 0.999001  0.999     1.0119348]\n",
      "Running reward for the 4 bandits: [-1. -1. -1. 12.]\n",
      "\n",
      "Result:[0.43586434] bandit:-5 \n",
      "Action:3\n",
      "WW:[0.9990011 0.999001  0.999     1.012923 ]\n",
      "Running reward for the 4 bandits: [-1. -1. -1. 13.]\n",
      "The agent thinks bandit 4 is the most promising....\n",
      "...and it was right!\n"
     ]
    }
   ],
   "source": [
    "total_episodes = 20 #Set total number of episodes to train agent on.\n",
    "total_reward = np.zeros(num_bandits) #Set scoreboard for bandits to 0.\n",
    "e = 0.25 #Set the chance of taking a random action.\n",
    "init = tf.initialize_all_variables()\n",
    "# Launch the tensorflow graph\n",
    "with tf.Session() as sess:\n",
    "    sess.run(init)\n",
    "    i = 0\n",
    "    while i < total_episodes:\n",
    "        print(\"\")\n",
    "        #Choose either a random action or one from our network.\n",
    "        if np.random.rand(1) < e:\n",
    "            print(\"Random Select\")\n",
    "            action = np.random.randint(num_bandits)\n",
    "        else:\n",
    "            action = sess.run(chosen_action)\n",
    "        \n",
    "        \n",
    "        reward = pullBandit(bandits[action]) #Get our reward from picking one of the bandits.            \n",
    "        \n",
    "        #Update the network.\n",
    "        _,resp,ww = sess.run([update,responsible_weight,weights], feed_dict={reward_holder:[reward],action_holder:[action]})\n",
    "        \n",
    "        #Update our running tally of scores.\n",
    "        total_reward[action] += reward\n",
    "#         if i % 50 == 0:\n",
    "        print (\"Action:{}\".format(action))\n",
    "        print (\"WW:{}\".format(ww))\n",
    "        print (\"Running reward for the \" + str(num_bandits) + \" bandits: \" + str(total_reward))\n",
    "        i+=1\n",
    "print (\"The agent thinks bandit \" + str(np.argmax(ww)+1) + \" is the most promising....\")\n",
    "if np.argmax(ww) == np.argmax(-np.array(bandits)):\n",
    "    print (\"...and it was right!\")\n",
    "else:\n",
    "    print (\"...and it was wrong!\")\n"
   ]
  },
  {
   "cell_type": "code",
   "execution_count": 79,
   "metadata": {},
   "outputs": [
    {
     "data": {
      "text/plain": [
       "4"
      ]
     },
     "execution_count": 79,
     "metadata": {},
     "output_type": "execute_result"
    }
   ],
   "source": [
    "num_bandits\n"
   ]
  },
  {
   "cell_type": "code",
   "execution_count": null,
   "metadata": {},
   "outputs": [],
   "source": []
  }
 ],
 "metadata": {
  "kernelspec": {
   "display_name": "Python 3",
   "language": "python",
   "name": "python3"
  },
  "language_info": {
   "codemirror_mode": {
    "name": "ipython",
    "version": 3
   },
   "file_extension": ".py",
   "mimetype": "text/x-python",
   "name": "python",
   "nbconvert_exporter": "python",
   "pygments_lexer": "ipython3",
   "version": "3.7.3"
  }
 },
 "nbformat": 4,
 "nbformat_minor": 2
}
